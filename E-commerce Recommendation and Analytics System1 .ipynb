{
 "cells": [
  {
   "cell_type": "code",
   "execution_count": 1,
   "id": "133deb19-0b0c-436b-a830-9149419ca1e3",
   "metadata": {},
   "outputs": [
    {
     "name": "stdout",
     "output_type": "stream",
     "text": [
      "Requirement already satisfied: mysql-connector-python in f:\\anaconda\\lib\\site-packages (9.1.0)\n",
      "Note: you may need to restart the kernel to use updated packages.\n"
     ]
    }
   ],
   "source": [
    "pip install mysql-connector-python"
   ]
  },
  {
   "cell_type": "code",
   "execution_count": 2,
   "id": "d09cb7ca-a4f5-41e6-b8ab-d8ab12f43219",
   "metadata": {},
   "outputs": [],
   "source": [
    "import mysql.connector\n",
    "import pandas as pd\n",
    "import matplotlib.pyplot as plt\n",
    "import seaborn as sns\n",
    "import plotly.express as px\n",
    "from datetime import datetime\n",
    "#from sqlalchemy import create_engine"
   ]
  },
  {
   "cell_type": "code",
   "execution_count": 3,
   "id": "d86e5f26-9550-42a0-9c72-7006eaaa903c",
   "metadata": {},
   "outputs": [
    {
     "name": "stdout",
     "output_type": "stream",
     "text": [
      "Connected to the database successfully!\n"
     ]
    }
   ],
   "source": [
    "try:\n",
    "    db = mysql.connector.connect(\n",
    "        host=\"localhost\",\n",
    "        user=\"root\",\n",
    "        password=\"Yash@1\",\n",
    "        database=\"ecommerce_db\"\n",
    "    )\n",
    "    cursor = db.cursor()\n",
    "    print(\"Connected to the database successfully!\")\n",
    "except mysql.connector.Error as err:\n",
    "    print(f\"Error: {err}\")\n",
    "    print(\"Connected to the database!\")\n"
   ]
  },
  {
   "cell_type": "code",
   "execution_count": 4,
   "id": "e313d128-0835-476e-89c1-4747448ce3c9",
   "metadata": {},
   "outputs": [],
   "source": [
    "cursor = db.cursor()\n"
   ]
  },
  {
   "cell_type": "code",
   "execution_count": 5,
   "id": "65468628-3a2b-48d3-a975-470dff948a13",
   "metadata": {},
   "outputs": [],
   "source": [
    "if db.is_connected():\n",
    "    cursor = db.cursor()\n",
    "else:\n",
    "    print(\"Database connection is not active. Reconnect and try again.\")\n"
   ]
  },
  {
   "cell_type": "code",
   "execution_count": 6,
   "id": "d8b8be99-8808-49ee-9e2d-177d453133a3",
   "metadata": {},
   "outputs": [],
   "source": [
    "# Function to add a customer\n",
    "def add_customer(name, email, region, segment):\n",
    "    query = \"INSERT INTO Customers (Name, Email, Region, CustomerSegment) VALUES (%s, %s, %s, %s)\"\n",
    "    cursor.execute(query, (name, email, region, segment))\n",
    "    db.commit()\n",
    "    print(f\"Customer '{name}' added successfully!\")\n",
    "\n",
    "# Function to add a product\n",
    "def add_product(product_name, category, price):\n",
    "    query = \"INSERT INTO Products (ProductName, Category, Price) VALUES (%s, %s, %s)\"\n",
    "    cursor.execute(query, (product_name, category, price))\n",
    "    db.commit()\n",
    "    print(f\"Product '{product_name}' added successfully!\")"
   ]
  },
  {
   "cell_type": "code",
   "execution_count": 7,
   "id": "94a2dbe6-f37b-4777-b9a0-2f8669e6f36b",
   "metadata": {},
   "outputs": [],
   "source": [
    "\n",
    "# Function to record a transaction\n",
    "def add_transaction(customer_id, product_id, quantity):\n",
    "    cursor.execute(\"SELECT Price FROM Products WHERE ProductID = %s\", (product_id,))\n",
    "    product = cursor.fetchone()\n",
    "    if product:\n",
    "        price = product[0]\n",
    "        total_amount = price * quantity\n",
    "        query = \"\"\" \n",
    "            INSERT INTO Transactions (CustomerID, ProductID, Quantity, TransactionDate, TotalAmount) \n",
    "            VALUES (%s, %s, %s, %s, %s) \n",
    "        \"\"\"\n",
    "        cursor.execute(query, (customer_id, product_id, quantity, datetime.now().date(), total_amount))\n",
    "        db.commit()\n",
    "        print(f\"Transaction recorded successfully! Total Amount: {total_amount}\")\n",
    "    else:\n",
    "        print(\"Invalid Product ID!\")\n"
   ]
  },
  {
   "cell_type": "code",
   "execution_count": 8,
   "id": "b2ed5f28-ec46-4ad7-a6ac-5df11cd77e70",
   "metadata": {},
   "outputs": [],
   "source": [
    "\n",
    "# Function to view customers\n",
    "def view_customers():\n",
    "    cursor.execute(\"SELECT * FROM Customers\")\n",
    "    customers = cursor.fetchall()\n",
    "    print(\"\\nCustomers:\")\n",
    "    for customer in customers:\n",
    "        print(customer)\n",
    "\n",
    "# Function to view products\n",
    "def view_products():\n",
    "    cursor.execute(\"SELECT * FROM Products\")\n",
    "    products = cursor.fetchall()\n",
    "    print(\"\\nProducts:\")\n",
    "    for product in products:\n",
    "        print(product)\n",
    "\n",
    "# Function to view transactions\n",
    "def view_transactions():\n",
    "    cursor.execute(\"SELECT * FROM Transactions\")\n",
    "    transactions = cursor.fetchall()\n",
    "    print(\"\\nTransactions:\")\n",
    "    for transaction in transactions:\n",
    "        print(transaction)"
   ]
  },
  {
   "cell_type": "code",
   "execution_count": 9,
   "id": "4bde4cae-0e7c-4949-8ff8-cdef0ad9270b",
   "metadata": {},
   "outputs": [],
   "source": [
    "\n",
    "# Function to recommend products based on the customer's purchase history\n",
    "def recommend_products(customer_id):\n",
    "    query = \"\"\"\n",
    "        SELECT Products.Category \n",
    "        FROM Transactions \n",
    "        JOIN Products ON Transactions.ProductID = Products.ProductID \n",
    "        WHERE Transactions.CustomerID = %s \n",
    "        GROUP BY Products.Category \n",
    "        ORDER BY COUNT(*) DESC \n",
    "        LIMIT 1\n",
    "    \"\"\"\n",
    "    cursor.execute(query, (customer_id,))\n",
    "    category = cursor.fetchone()\n",
    "    if category:\n",
    "        cursor.execute(\"SELECT * FROM Products WHERE Category = %s LIMIT 5\", (category[0],))\n",
    "        recommendations = cursor.fetchall()\n",
    "        print(\"\\nRecommended Products:\")\n",
    "        for product in recommendations:\n",
    "            print(product)\n",
    "    else:\n",
    "        print(\"No recommendations available.\")\n"
   ]
  },
  {
   "cell_type": "code",
   "execution_count": 10,
   "id": "77b0c443-6625-4e5c-ad1c-a71dbb3adbac",
   "metadata": {},
   "outputs": [],
   "source": [
    "\n",
    "# Main menu function\n",
    "def main_menu():\n",
    "    while True:\n",
    "        print(\"\\n--- E-Commerce System ---\")\n",
    "        print(\"1. Add Customer\")\n",
    "        print(\"2. Add Product\")\n",
    "        print(\"3. Add Transaction\")\n",
    "        print(\"4. View Customers\")\n",
    "        print(\"5. View Products\")\n",
    "        print(\"6. View Transactions\")\n",
    "        print(\"7. Recommend Products\")\n",
    "        print(\"8. Exit\")\n",
    "        choice = int(input(\"Enter your choice: \"))\n",
    "        \n",
    "        if choice == 1:\n",
    "            name = input(\"Enter customer name: \")\n",
    "            email = input(\"Enter customer email: \")\n",
    "            region = input(\"Enter customer region: \")\n",
    "            segment = input(\"Enter customer segment: \")\n",
    "            add_customer(name, email, region, segment)\n",
    "        elif choice == 2:\n",
    "            product_name = input(\"Enter product name: \")\n",
    "            category = input(\"Enter product category: \")\n",
    "            price = float(input(\"Enter product price: \"))\n",
    "            add_product(product_name, category, price)\n",
    "        elif choice == 3:\n",
    "            customer_id = int(input(\"Enter customer ID: \"))\n",
    "            product_id = int(input(\"Enter product ID: \"))\n",
    "            quantity = int(input(\"Enter quantity: \"))\n",
    "            add_transaction(customer_id, product_id, quantity)\n",
    "        elif choice == 4:\n",
    "            view_customers()\n",
    "        elif choice == 5:\n",
    "            view_products()\n",
    "        elif choice == 6:\n",
    "            view_transactions()\n",
    "        elif choice == 7:\n",
    "            customer_id = int(input(\"Enter customer ID for recommendations: \"))\n",
    "            recommend_products(customer_id)\n",
    "        elif choice == 8:\n",
    "            print(\"Exiting system. Goodbye!\")\n",
    "            break\n",
    "        else:\n",
    "            print(\"Invalid choice! Try again.\")\n"
   ]
  },
  {
   "cell_type": "code",
   "execution_count": 11,
   "id": "722407a8-2383-4199-ab24-7ae1a8ef2c6d",
   "metadata": {},
   "outputs": [
    {
     "name": "stdout",
     "output_type": "stream",
     "text": [
      "\n",
      "--- E-Commerce System ---\n",
      "1. Add Customer\n",
      "2. Add Product\n",
      "3. Add Transaction\n",
      "4. View Customers\n",
      "5. View Products\n",
      "6. View Transactions\n",
      "7. Recommend Products\n",
      "8. Exit\n"
     ]
    },
    {
     "name": "stdin",
     "output_type": "stream",
     "text": [
      "Enter your choice:  4\n"
     ]
    },
    {
     "name": "stdout",
     "output_type": "stream",
     "text": [
      "\n",
      "Customers:\n",
      "(1, 'Aarav Sharma', 'aarav.sharma@example.com', 'North', 'Regular')\n",
      "(2, 'Isha Patel', 'isha.patel@example.com', 'West', 'Premium')\n",
      "(3, 'Arjun Reddy', 'arjun.reddy@example.com', 'South', 'Regular')\n",
      "(4, 'Priya Mehta', 'priya.mehta@example.com', 'East', 'Premium')\n",
      "(5, 'Rohan Singh', 'rohan.singh@example.com', 'North', 'Regular')\n",
      "(6, 'Simran Kaur', 'simran.kaur@example.com', 'West', 'Premium')\n",
      "(7, 'Vikram Yadav', 'vikram.yadav@example.com', 'South', 'Regular')\n",
      "(8, 'Neha Gupta', 'neha.gupta@example.com', 'East', 'Premium')\n",
      "(9, 'Rajesh Verma', 'rajesh.verma@example.com', 'North', 'Regular')\n",
      "(10, 'Maya Desai', 'maya.desai@example.com', 'West', 'Premium')\n",
      "(11, 'Kunal Kumar', 'kunal.kumar@example.com', 'South', 'Regular')\n",
      "(12, 'Sanya Rao', 'sanya.rao@example.com', 'East', 'Premium')\n",
      "(13, 'Devansh Agarwal', 'devansh.agarwal@example.com', 'North', 'Regular')\n",
      "(14, 'Pooja Sinha', 'pooja.sinha@example.com', 'West', 'Premium')\n",
      "(15, 'Aditya Mehta', 'aditya.mehta@example.com', 'South', 'Regular')\n",
      "(16, 'Tanya Sharma', 'tanya.sharma@example.com', 'East', 'Premium')\n",
      "(17, 'Yash Patel', 'yash.patel@example.com', 'North', 'Regular')\n",
      "(18, 'Ritika Bansal', 'ritika.bansal@example.com', 'West', 'Premium')\n",
      "(19, 'Manoj Choudhury', 'manoj.choudhury@example.com', 'South', 'Regular')\n",
      "(20, 'Divya Nair', 'divya.nair@example.com', 'East', 'Premium')\n",
      "(21, 'Rahul Mishra', 'rahul.mishra@example.com', 'North', 'Regular')\n",
      "(22, 'Kiran Singh', 'kiran.singh@example.com', 'West', 'Premium')\n",
      "(23, 'Abhinav Thakur', 'abhinav.thakur@example.com', 'South', 'Regular')\n",
      "(24, 'Meenal Sharma', 'meenal.sharma@example.com', 'East', 'Premium')\n",
      "(25, 'Vandana Soni', 'vandana.soni@example.com', 'North', 'Regular')\n",
      "(26, 'Ankit Agrawal', 'ankit.agrawal@example.com', 'West', 'Premium')\n",
      "(27, 'Siddhi Joshi', 'siddhi.joshi@example.com', 'South', 'Regular')\n",
      "(28, 'Nikita Verma', 'nikita.verma@example.com', 'East', 'Premium')\n",
      "(29, 'Amit Patel', 'amit.patel@example.com', 'North', 'Regular')\n",
      "(30, 'Anjali Gupta', 'anjali.gupta@example.com', 'West', 'Premium')\n",
      "(31, 'Rajiv Arora', 'rajiv.arora@example.com', 'South', 'Regular')\n",
      "(32, 'Shweta Rawat', 'shweta.rawat@example.com', 'East', 'Premium')\n",
      "(33, 'Harsh Sharma', 'harsh.sharma@example.com', 'North', 'Regular')\n",
      "(34, 'Alok Kumar', 'alok.kumar@example.com', 'West', 'Premium')\n",
      "(35, 'Nikhil Deshmukh', 'nikhil.deshmukh@example.com', 'South', 'Regular')\n",
      "(36, 'Preeti Joshi', 'preeti.joshi@example.com', 'East', 'Premium')\n",
      "(37, 'Kartik Gupta', 'kartik.gupta@example.com', 'North', 'Regular')\n",
      "(38, 'Sneha Kapoor', 'sneha.kapoor@example.com', 'West', 'Premium')\n",
      "(39, 'Deepak Malhotra', 'deepak.malhotra@example.com', 'South', 'Regular')\n",
      "(40, 'Anushka Iyer', 'anushka.iyer@example.com', 'East', 'Premium')\n",
      "(41, 'John Doe', 'john@example.com', 'North', 'Premium')\n",
      "\n",
      "--- E-Commerce System ---\n",
      "1. Add Customer\n",
      "2. Add Product\n",
      "3. Add Transaction\n",
      "4. View Customers\n",
      "5. View Products\n",
      "6. View Transactions\n",
      "7. Recommend Products\n",
      "8. Exit\n"
     ]
    },
    {
     "name": "stdin",
     "output_type": "stream",
     "text": [
      "Enter your choice:  5\n"
     ]
    },
    {
     "name": "stdout",
     "output_type": "stream",
     "text": [
      "\n",
      "Products:\n",
      "(1, 'Wireless Mouse', 'Electronics', Decimal('799.99'))\n",
      "(2, 'Bluetooth Headphones', 'Electronics', Decimal('1499.99'))\n",
      "(3, 'Smartphone', 'Electronics', Decimal('27999.99'))\n",
      "(4, 'Gaming Laptop', 'Electronics', Decimal('54999.99'))\n",
      "(5, 'Office Chair', 'Furniture', Decimal('3499.99'))\n",
      "(6, 'Wooden Desk', 'Furniture', Decimal('7999.99'))\n",
      "(7, 'LED Desk Lamp', 'Furniture', Decimal('1299.99'))\n",
      "(8, 'Coffee Maker', 'Appliances', Decimal('2999.99'))\n",
      "(9, 'Blender', 'Appliances', Decimal('2499.99'))\n",
      "(10, 'Air Fryer', 'Appliances', Decimal('4999.99'))\n",
      "(11, 'Yoga Mat', 'Sports', Decimal('1299.99'))\n",
      "(12, 'Dumbbells', 'Sports', Decimal('1999.99'))\n",
      "(13, 'Treadmill', 'Sports', Decimal('22999.99'))\n",
      "(14, 'Sofa Set', 'Furniture', Decimal('29999.99'))\n",
      "(15, 'Dining Table', 'Furniture', Decimal('15999.99'))\n",
      "(16, 'Fridge', 'Appliances', Decimal('17999.99'))\n",
      "(17, 'Washing Machine', 'Appliances', Decimal('24999.99'))\n",
      "(18, 'LED TV', 'Electronics', Decimal('39999.99'))\n",
      "(19, 'Smartwatch', 'Electronics', Decimal('5999.99'))\n",
      "(20, 'Tablet', 'Electronics', Decimal('17999.99'))\n",
      "(21, 'Chopper', 'Appliances', Decimal('999.99'))\n",
      "(22, 'Blender Mixer', 'Appliances', Decimal('1499.99'))\n",
      "(23, 'Water Heater', 'Appliances', Decimal('3999.99'))\n",
      "(24, 'Electric Kettle', 'Appliances', Decimal('999.99'))\n",
      "(25, 'AC', 'Electronics', Decimal('37999.99'))\n",
      "(26, 'Speaker', 'Electronics', Decimal('1999.99'))\n",
      "(27, 'Camera', 'Electronics', Decimal('49999.99'))\n",
      "(28, 'Printer', 'Electronics', Decimal('7999.99'))\n",
      "(29, 'Tennis Racket', 'Sports', Decimal('2999.99'))\n",
      "(30, 'Tennis Ball', 'Sports', Decimal('299.99'))\n",
      "(31, 'Skateboard', 'Sports', Decimal('4999.99'))\n",
      "(32, 'Football', 'Sports', Decimal('999.99'))\n",
      "(33, 'Baseball', 'Sports', Decimal('799.99'))\n",
      "(34, 'Net', 'Sports', Decimal('1199.99'))\n",
      "(35, 'Jacket', 'Fashion', Decimal('2999.99'))\n",
      "(36, 'Sunglasses', 'Fashion', Decimal('1599.99'))\n",
      "(37, 'Leather Shoes', 'Fashion', Decimal('4999.99'))\n",
      "(38, 'Backpack', 'Fashion', Decimal('1999.99'))\n",
      "(39, 'Wool Sweater', 'Fashion', Decimal('2999.99'))\n",
      "(40, 'Running Shoes', 'Fashion', Decimal('4999.99'))\n",
      "\n",
      "--- E-Commerce System ---\n",
      "1. Add Customer\n",
      "2. Add Product\n",
      "3. Add Transaction\n",
      "4. View Customers\n",
      "5. View Products\n",
      "6. View Transactions\n",
      "7. Recommend Products\n",
      "8. Exit\n"
     ]
    },
    {
     "name": "stdin",
     "output_type": "stream",
     "text": [
      "Enter your choice:  6\n"
     ]
    },
    {
     "name": "stdout",
     "output_type": "stream",
     "text": [
      "\n",
      "Transactions:\n",
      "(41, 1, 1, 2, datetime.date(2024, 12, 19), Decimal('1599.98'))\n",
      "\n",
      "--- E-Commerce System ---\n",
      "1. Add Customer\n",
      "2. Add Product\n",
      "3. Add Transaction\n",
      "4. View Customers\n",
      "5. View Products\n",
      "6. View Transactions\n",
      "7. Recommend Products\n",
      "8. Exit\n"
     ]
    },
    {
     "name": "stdin",
     "output_type": "stream",
     "text": [
      "Enter your choice:  8\n"
     ]
    },
    {
     "name": "stdout",
     "output_type": "stream",
     "text": [
      "Exiting system. Goodbye!\n"
     ]
    }
   ],
   "source": [
    "\n",
    "# Run the main menu\n",
    "main_menu()\n",
    "\n",
    "# Close cursor and database connection\n",
    "cursor.close()\n",
    "db.close()"
   ]
  }
 ],
 "metadata": {
  "kernelspec": {
   "display_name": "Python 3 (ipykernel)",
   "language": "python",
   "name": "python3"
  },
  "language_info": {
   "codemirror_mode": {
    "name": "ipython",
    "version": 3
   },
   "file_extension": ".py",
   "mimetype": "text/x-python",
   "name": "python",
   "nbconvert_exporter": "python",
   "pygments_lexer": "ipython3",
   "version": "3.12.7"
  }
 },
 "nbformat": 4,
 "nbformat_minor": 5
}
